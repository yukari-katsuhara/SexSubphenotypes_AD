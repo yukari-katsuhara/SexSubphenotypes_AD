{
 "cells": [
  {
   "cell_type": "markdown",
   "metadata": {},
   "source": [
    "This script calculates odds ratios and p-values for a specific cluster compared to all other clusters.\n",
    "The results will be used to generate volcano plots.\n",
    "\n",
    "Key processes in this script:\n",
    "1. **Compute odds ratios and p-values for each diagnosis**  \n",
    "   - **Input:** `Data/ad_diagnosis.csv`, `kmeans_clusters_n5_rdm42_diagnosis.pkl`\n",
    "2. **Apply Bonferroni correction** to adjust for multiple comparisons.\n",
    "3. **Classify diagnoses** based on statistical significance and effect size:  \n",
    "   - **\"ClusterX\"** if log2(odds ratio) > 1 and p-value is significant.  \n",
    "   - **\"Other Clusters\"** if log2(odds ratio) < -1 and p-value is significant.\n",
    "   - **\"Significant\"** if -1 < log2(odds ratio) < 1 and p-value is significant.  \n",
    "   - **\"Not Significant\"** for all others.\n",
    "4. **Save results** for further analysis:  \n",
    "   - **All odds ratios and p-values:** `volcano_c{i}_other_ICD10.pickle`\n",
    "   - **Filtered significant results:** `Data/volcano_significant_c{i}_other_ICD10.csv`\n",
    "\n",
    "The output provides insights into statistically significant comorbidities within each cluster.\n"
   ]
  },
  {
   "cell_type": "code",
   "execution_count": 1,
   "metadata": {},
   "outputs": [],
   "source": [
    "import pickle\n",
    "import pandas as pd\n",
    "import seaborn as sns\n",
    "%matplotlib inline\n",
    "import matplotlib.pyplot as plt\n",
    "import numpy as np\n",
    "import os\n",
    "import re\n",
    "import umap\n",
    "from scipy import stats\n",
    "pd.set_option('display.max_rows', 50)\n",
    "np.set_printoptions(threshold=50)\n",
    "import joblib\n",
    "from scipy.stats import fisher_exact\n",
    "from matplotlib import cm\n",
    "import statsmodels.api as sm\n",
    "import pickle\n",
    "from joblib import dump\n",
    "from joblib import load\n",
    "import plotly.io as pio\n",
    "from math import log10, log2\n",
    "from scipy.stats import chi2_contingency"
   ]
  },
  {
   "cell_type": "code",
   "execution_count": 2,
   "metadata": {},
   "outputs": [],
   "source": [
    "import matplotlib\n",
    "matplotlib.rcParams['pdf.fonttype'] = 42\n",
    "matplotlib.rcParams['ps.fonttype'] = 42"
   ]
  },
  {
   "cell_type": "code",
   "execution_count": 3,
   "metadata": {},
   "outputs": [],
   "source": [
    "%run -i setupfunc.py"
   ]
  },
  {
   "cell_type": "markdown",
   "metadata": {},
   "source": [
    "# Load analysis datasets"
   ]
  },
  {
   "cell_type": "code",
   "execution_count": 4,
   "metadata": {},
   "outputs": [],
   "source": [
    "alldiag = pd.read_csv('Data/ad_diagnosis.csv')\n",
    "alldiag['ValueL'] = alldiag['Value'].apply(lambda x: ICD10_code_to_chapter(str(x)[0:3])) # Get ICD10 Chapte"
   ]
  },
  {
   "cell_type": "code",
   "execution_count": 5,
   "metadata": {},
   "outputs": [],
   "source": [
    "alldiag.rename(columns={'PatientDurableKey':'PatientID','Value':'ICD10','ValueL':'ICD10_chape'}, inplace=True)"
   ]
  },
  {
   "cell_type": "code",
   "execution_count": 6,
   "metadata": {},
   "outputs": [],
   "source": [
    "alldiag = alldiag[alldiag['ICD10'].notna()]"
   ]
  },
  {
   "cell_type": "code",
   "execution_count": 7,
   "metadata": {},
   "outputs": [],
   "source": [
    "alldiag = alldiag[~alldiag['DiagnosisName'].str.contains('alzheimer', flags=re.IGNORECASE)]"
   ]
  },
  {
   "cell_type": "code",
   "execution_count": 8,
   "metadata": {},
   "outputs": [],
   "source": [
    "with open('kmeans_clusters_n5_rdm42_diagnosis.pkl', 'rb') as f:\n",
    "    df = pickle.load(f)"
   ]
  },
  {
   "cell_type": "code",
   "execution_count": 9,
   "metadata": {},
   "outputs": [],
   "source": [
    "df = df[['Cluster_0','Cluster_1', 'Cluster_2', 'Cluster_3','Cluster_4', 'Cluster']]"
   ]
  },
  {
   "cell_type": "code",
   "execution_count": 10,
   "metadata": {},
   "outputs": [],
   "source": [
    "alldiag_cluster = alldiag.join(df, on='PatientID', how='left')"
   ]
  },
  {
   "cell_type": "code",
   "execution_count": 11,
   "metadata": {},
   "outputs": [],
   "source": [
    "# Remove records containing 'IMO' in the 'ICD10' column\n",
    "alldiag_cluster = alldiag_cluster[~alldiag_cluster['ICD10'].str.contains('IMO', na=False)]"
   ]
  },
  {
   "cell_type": "markdown",
   "metadata": {},
   "source": [
    "# Comparing a specific cluster vs all other clusters"
   ]
  },
  {
   "cell_type": "code",
   "execution_count": 12,
   "metadata": {},
   "outputs": [],
   "source": [
    "diagkeys = ['ICD10']"
   ]
  },
  {
   "cell_type": "code",
   "execution_count": 13,
   "metadata": {},
   "outputs": [],
   "source": [
    "focus_cluster = 'Cluster_1'"
   ]
  },
  {
   "cell_type": "code",
   "execution_count": 14,
   "metadata": {},
   "outputs": [],
   "source": [
    "alldiag_f_cluster = alldiag_cluster[alldiag_cluster[focus_cluster]==1]\n",
    "alldiag_nonf_cluster = alldiag_cluster[alldiag_cluster[focus_cluster]==0]"
   ]
  },
  {
   "cell_type": "code",
   "execution_count": 15,
   "metadata": {},
   "outputs": [],
   "source": [
    "total_f = alldiag_f_cluster['PatientID'].nunique() #Total cluster0 patients\n",
    "total_nonf = alldiag_nonf_cluster['PatientID'].nunique() #Total other clusters' patients"
   ]
  },
  {
   "cell_type": "code",
   "execution_count": 16,
   "metadata": {},
   "outputs": [],
   "source": [
    "countDiagnosis_f = countPtsDiagnosis_Dict(alldiag_f_cluster, total_f)"
   ]
  },
  {
   "cell_type": "code",
   "execution_count": 17,
   "metadata": {},
   "outputs": [],
   "source": [
    "countDiagnosis_nonf = countPtsDiagnosis_Dict(alldiag_nonf_cluster, total_nonf)"
   ]
  },
  {
   "cell_type": "code",
   "execution_count": 18,
   "metadata": {},
   "outputs": [],
   "source": [
    "# Create dictionary of dataframes of contingency table for each diagnosis\n",
    "alldiagcount = dict() \n",
    "\n",
    "jointype = 'outer' # outer join allows us to have contingency table with 0 as entries\n",
    "\n",
    "for n in diagkeys:\n",
    "    alldiagcount[n] = countDiagnosis_f[n].merge(countDiagnosis_nonf[n], how = jointype, on = n, suffixes=('_c1','_nonc1'))\n",
    "    alldiagcount[n] = alldiagcount[n].set_index(n)\n",
    "    if jointype == 'outer': # replace nan's\n",
    "        nanreplace = dict(zip( list(alldiagcount[n].columns) , [0,total_f,0,total_nonf] ))\n",
    "        alldiagcount[n] =  alldiagcount[n].fillna(value=nanreplace)"
   ]
  },
  {
   "cell_type": "code",
   "execution_count": 19,
   "metadata": {},
   "outputs": [
    {
     "name": "stdout",
     "output_type": "stream",
     "text": [
      "Significance testing on  ICD10\n",
      "ICD10 : Amount:  10448\n",
      "\t Fisher Exact for <5 pts in a category, num: 8337\n",
      "\t\t fisher: (8337, 2)\n",
      "\t\t fisher1: (8337, 8)\n",
      "\t Chi square for >=5 pts in a category, num: 2111\n",
      "\t\t fisher (2111, 4)\n",
      "\t\t chisquare: (2111, 9)\n",
      "\t\t combined 1: (10448, 13)\n",
      "\t\t combined 2: (10448, 14)\n",
      "\t Final num:  10448\n"
     ]
    }
   ],
   "source": [
    "# compute p-values.\n",
    "chitest_count = sigTestCountsDict(alldiagcount, diagkeys, verbose = 1, diag = True)"
   ]
  },
  {
   "cell_type": "code",
   "execution_count": 20,
   "metadata": {},
   "outputs": [],
   "source": [
    "# Dictionary to store DataFrames\n",
    "label_data_dict = {}\n",
    "\n",
    "for n in diagkeys:\n",
    "    # Bonferroni correction: Adjusting the significance threshold to account for multiple comparisons\n",
    "    bc = .05 / chitest_count[n].shape[0]\n",
    "\n",
    "    # Add index column for reference\n",
    "    chitest_count[n]['index'] = chitest_count[n].index\n",
    "    \n",
    "    # Initialize a significance label array with \"Not Significant\" as the default value\n",
    "    sig = np.full(shape=(chitest_count[n].shape[0],), fill_value='Not Significant') \n",
    "\n",
    "    # Mark observations as \"Significant\" if the p-value is below the Bonferroni-corrected threshold\n",
    "    sig[chitest_count[n]['pvalue'] < bc] = 'Significant'\n",
    "\n",
    "    # Further classify significant observations:\n",
    "    # - \"Cluster1\" if the log2 odds ratio is greater than 1\n",
    "    # - \"Other Clusters\" if the log2 odds ratio is less than -1\n",
    "    mask = (chitest_count[n]['pvalue'] < bc) & (chitest_count[n]['log2_oddsratio'] > 1)\n",
    "    sig[mask] = 'Cluster1'\n",
    "\n",
    "    mask = (chitest_count[n]['pvalue'] < bc) & (chitest_count[n]['log2_oddsratio'] < -1)\n",
    "    sig[mask] = 'Other Clusters'\n",
    "    \n",
    "    # Assign the classification labels to the DataFrame\n",
    "    chitest_count[n]['sig'] = sig\n",
    "\n",
    "    # Create a copy of the DataFrame to avoid modifying the original dataset\n",
    "    df = chitest_count[n].copy()\n",
    " \n",
    "    # Extract statistically significant data (excluding \"Not Significant\" cases)\n",
    "    significant_df = df[df['sig'] != 'Not Significant'].copy()\n",
    "\n",
    "    # Prepare the label data for visualization\n",
    "    label_data = [\n",
    "        {\n",
    "            'Label': row['index'],  # The identifier for each record\n",
    "            'X': row['log2_oddsratio'],  # X-axis value (effect size)\n",
    "            'Y': row['-log_pvalue'],  # Y-axis value (statistical significance)\n",
    "            'ICD10_chape': row['ICD10_chape']  # Associated ICD-10 classification\n",
    "        }\n",
    "        for idx, row in significant_df.iterrows()\n",
    "    ]\n",
    "\n",
    "    # Convert the label data into a pandas DataFrame\n",
    "    df_labels = pd.DataFrame(label_data)\n",
    "\n",
    "    # Save the extracted data as a CSV file for further analysis\n",
    "    df_labels.to_csv(f'Data/volcano_significant_c1_other_{n}.csv', index=False)\n"
   ]
  },
  {
   "cell_type": "code",
   "execution_count": 21,
   "metadata": {},
   "outputs": [],
   "source": [
    "# save\n",
    "import pickle \n",
    "pickle.dump(chitest_count, open('Data/volcano_c1_other_ICD10.pickle', 'wb'))"
   ]
  },
  {
   "cell_type": "code",
   "execution_count": 22,
   "metadata": {},
   "outputs": [],
   "source": [
    "custom_palette = {\n",
    "    \"Not Significant\": \"#949494\",\n",
    "    \"Significant\": \"#51A0D5\",\n",
    "    \"Cluster1\": \"#EC719E\",\n",
    "    \"Other Clusters\": \"#2CB97C\"\n",
    "}\n",
    "\n",
    "custom_colors = [\"#949494\", \"#51A0D5\", \"#EC719E\", \"#2CB97C\"]"
   ]
  },
  {
   "cell_type": "code",
   "execution_count": 23,
   "metadata": {},
   "outputs": [],
   "source": [
    "from adjustText import adjust_text"
   ]
  },
  {
   "cell_type": "code",
   "execution_count": 24,
   "metadata": {},
   "outputs": [
    {
     "data": {
      "image/png": "[encoded data removed]",
      "text/plain": [
       "<Figure size 504x316.8 with 1 Axes>"
      ]
     },
     "metadata": {
      "needs_background": "light"
     },
     "output_type": "display_data"
    }
   ],
   "source": [
    "plot_diagkeys = ['ICD10']\n",
    "\n",
    "# Dictionary to store the DataFrame for saving\n",
    "label_data_dict = {}\n",
    "\n",
    "for n in plot_diagkeys:\n",
    "    # Bonferroni correction threshold\n",
    "    bc = .05 / chitest_count[n].shape[0]  \n",
    "    \n",
    "    # Add the index as a column in the DataFrame\n",
    "    chitest_count[n]['index'] = chitest_count[n].index  \n",
    "    df = chitest_count[n].copy()  \n",
    "\n",
    "    # Plot settings\n",
    "    fig, ax = plt.figure(figsize=(7, 4.4)), plt.gca()  \n",
    "    g = sns.scatterplot(data=df, x='log2_oddsratio', y='-log_pvalue',  \n",
    "                        hue='sig', palette=custom_palette,  \n",
    "                        edgecolor=None, s=12, ax=ax)  \n",
    "    \n",
    "    # Set x-axis limits\n",
    "    plt.xlim([-10, 10])  \n",
    "    \n",
    "    # Add reference lines\n",
    "    plt.axhline(-np.log10(bc), linestyle='--', color='#555555', linewidth=1)  # Bonferroni correction threshold\n",
    "    plt.axvline(1, color='#555555', linestyle=':')  # Log2 OR = 1 threshold\n",
    "    plt.axvline(-1, color='#555555', linestyle=':')  # Log2 OR = -1 threshold\n",
    "\n",
    "    # Remove labels and legend\n",
    "    plt.xlabel('')  \n",
    "    plt.ylabel('')  \n",
    "    plt.title('Cluster 1 vs. other clusters')  \n",
    "    plt.legend().remove()  \n",
    "\n",
    "    # Save the figure\n",
    "    plt.savefig(\"Figures/volcano_c1.pdf\", dpi=600, format=\"pdf\", bbox_inches=\"tight\")  \n",
    "\n",
    "    # Display the plot\n",
    "    plt.show()\n"
   ]
  },
  {
   "cell_type": "code",
   "execution_count": null,
   "metadata": {},
   "outputs": [],
   "source": []
  }
 ],
 "metadata": {
  "kernelspec": {
   "display_name": "Python 3",
   "language": "python",
   "name": "python3"
  },
  "language_info": {
   "codemirror_mode": {
    "name": "ipython",
    "version": 3
   },
   "file_extension": ".py",
   "mimetype": "text/x-python",
   "name": "python",
   "nbconvert_exporter": "python",
   "pygments_lexer": "ipython3",
   "version": "3.7.9"
  }
 },
 "nbformat": 4,
 "nbformat_minor": 4
}
