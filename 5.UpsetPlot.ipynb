{
 "cells": [
  {
   "cell_type": "markdown",
   "metadata": {},
   "source": [
    "This script identifies the intersection of significant comorbidities across clusters using an UpSet plot.\n",
    "It helps visualize comorbidities that are significantly associated with specific clusters.\n",
    "\n",
    "Key processes in this script:\n",
    "1. **Generate a True/False mapping for each cluster**, indicating whether a comorbidity is significant in that cluster.  \n",
    "   - **Input:** `Data/volcano_significant_c{i}_other_ICD10.csv`\n",
    "2. **Create an UpSet plot** to illustrate the overlap of comorbidities across clusters.\n",
    "3. **Output structure**: Each column represents a cluster (e.g., c0, c1, c2, etc.), with True/False values indicating  \n",
    "   whether the comorbidity is significant in that cluster.\n",
    "4. **Save processed data** for further analysis.  \n",
    "   - **Output:** `Data/upset_AD_positive_ICD10.csv`\n",
    "\n",
    "Additionally, a similar analysis will be performed for negatively associated comorbidities,  \n",
    "identifying conditions that are significantly less frequent in specific clusters."
   ]
  },
  {
   "cell_type": "code",
   "execution_count": 1,
   "metadata": {},
   "outputs": [],
   "source": [
    "import pandas as pd\n",
    "import matplotlib.pyplot as plt\n",
    "from upsetplot import UpSet"
   ]
  },
  {
   "cell_type": "markdown",
   "metadata": {},
   "source": [
    "# Load Datasets"
   ]
  },
  {
   "cell_type": "code",
   "execution_count": 2,
   "metadata": {},
   "outputs": [],
   "source": [
    "# volcano_c0_other_{n}.csv\n",
    "df1 = pd.read_csv('Data/volcano_significant_c1_other_ICD10.csv')\n",
    "df2 = pd.read_csv('Data/volcano_significant_c2_other_ICD10.csv')\n",
    "df3 = pd.read_csv('Data/volcano_significant_c3_other_ICD10.csv')\n",
    "df4 = pd.read_csv('Data/volcano_significant_c4_other_ICD10.csv')\n",
    "df0 = pd.read_csv('Data/volcano_significant_c0_other_ICD10.csv')"
   ]
  },
  {
   "cell_type": "code",
   "execution_count": 3,
   "metadata": {},
   "outputs": [],
   "source": [
    "df1['Cluster']=1\n",
    "df2['Cluster']=2\n",
    "df3['Cluster']=3\n",
    "df4['Cluster']=4\n",
    "df0['Cluster']=0"
   ]
  },
  {
   "cell_type": "code",
   "execution_count": 4,
   "metadata": {},
   "outputs": [],
   "source": [
    "data = pd.concat([df0, df1, df2, df3, df4], axis=0)"
   ]
  },
  {
   "cell_type": "code",
   "execution_count": 5,
   "metadata": {},
   "outputs": [],
   "source": [
    "# Filter for positive associations (X: log2_oddsratio)\n",
    "data = data[data['X']>0]"
   ]
  },
  {
   "cell_type": "code",
   "execution_count": 6,
   "metadata": {},
   "outputs": [],
   "source": [
    "data = data[['Label','Cluster','mapping']]"
   ]
  },
  {
   "cell_type": "code",
   "execution_count": 7,
   "metadata": {},
   "outputs": [],
   "source": [
    "# Create a binary matrix for each cluster\n",
    "data['value'] = 1  # Assign a value of 1 to indicate presence\n",
    "pivot_df = data.pivot_table(index='Cluster', columns='Label', values='value', fill_value=0)"
   ]
  },
  {
   "cell_type": "code",
   "execution_count": 8,
   "metadata": {},
   "outputs": [],
   "source": [
    "pivot_df.index = [\"Cluster \" + str(i)  for i in pivot_df.index]"
   ]
  },
  {
   "cell_type": "code",
   "execution_count": 9,
   "metadata": {},
   "outputs": [
    {
     "data": {
      "text/html": [
       "<div>\n",
       "<style scoped>\n",
       "    .dataframe tbody tr th:only-of-type {\n",
       "        vertical-align: middle;\n",
       "    }\n",
       "\n",
       "    .dataframe tbody tr th {\n",
       "        vertical-align: top;\n",
       "    }\n",
       "\n",
       "    .dataframe thead th {\n",
       "        text-align: right;\n",
       "    }\n",
       "</style>\n",
       "<table border=\"1\" class=\"dataframe\">\n",
       "  <thead>\n",
       "    <tr style=\"text-align: right;\">\n",
       "      <th>Label</th>\n",
       "      <th>A04.7</th>\n",
       "      <th>A04.72</th>\n",
       "      <th>A04.8</th>\n",
       "      <th>A08.4</th>\n",
       "      <th>A08.8</th>\n",
       "      <th>A09</th>\n",
       "      <th>A15.0</th>\n",
       "      <th>A15.9</th>\n",
       "      <th>A41.50</th>\n",
       "      <th>A41.51</th>\n",
       "      <th>...</th>\n",
       "      <th>Z98.42</th>\n",
       "      <th>Z98.49</th>\n",
       "      <th>Z98.61</th>\n",
       "      <th>Z98.89</th>\n",
       "      <th>Z98.890</th>\n",
       "      <th>Z99.11</th>\n",
       "      <th>Z99.2</th>\n",
       "      <th>Z99.3</th>\n",
       "      <th>Z99.81</th>\n",
       "      <th>Z99.89</th>\n",
       "    </tr>\n",
       "  </thead>\n",
       "  <tbody>\n",
       "    <tr>\n",
       "      <th>Cluster 0</th>\n",
       "      <td>0</td>\n",
       "      <td>0</td>\n",
       "      <td>0</td>\n",
       "      <td>0</td>\n",
       "      <td>0</td>\n",
       "      <td>0</td>\n",
       "      <td>0</td>\n",
       "      <td>0</td>\n",
       "      <td>0</td>\n",
       "      <td>0</td>\n",
       "      <td>...</td>\n",
       "      <td>0</td>\n",
       "      <td>0</td>\n",
       "      <td>0</td>\n",
       "      <td>0</td>\n",
       "      <td>0</td>\n",
       "      <td>0</td>\n",
       "      <td>0</td>\n",
       "      <td>0</td>\n",
       "      <td>0</td>\n",
       "      <td>0</td>\n",
       "    </tr>\n",
       "    <tr>\n",
       "      <th>Cluster 1</th>\n",
       "      <td>0</td>\n",
       "      <td>0</td>\n",
       "      <td>1</td>\n",
       "      <td>1</td>\n",
       "      <td>1</td>\n",
       "      <td>1</td>\n",
       "      <td>0</td>\n",
       "      <td>1</td>\n",
       "      <td>1</td>\n",
       "      <td>1</td>\n",
       "      <td>...</td>\n",
       "      <td>1</td>\n",
       "      <td>1</td>\n",
       "      <td>1</td>\n",
       "      <td>1</td>\n",
       "      <td>1</td>\n",
       "      <td>1</td>\n",
       "      <td>1</td>\n",
       "      <td>1</td>\n",
       "      <td>1</td>\n",
       "      <td>1</td>\n",
       "    </tr>\n",
       "    <tr>\n",
       "      <th>Cluster 2</th>\n",
       "      <td>0</td>\n",
       "      <td>1</td>\n",
       "      <td>1</td>\n",
       "      <td>0</td>\n",
       "      <td>1</td>\n",
       "      <td>0</td>\n",
       "      <td>1</td>\n",
       "      <td>0</td>\n",
       "      <td>0</td>\n",
       "      <td>0</td>\n",
       "      <td>...</td>\n",
       "      <td>0</td>\n",
       "      <td>1</td>\n",
       "      <td>1</td>\n",
       "      <td>0</td>\n",
       "      <td>0</td>\n",
       "      <td>0</td>\n",
       "      <td>0</td>\n",
       "      <td>0</td>\n",
       "      <td>1</td>\n",
       "      <td>0</td>\n",
       "    </tr>\n",
       "    <tr>\n",
       "      <th>Cluster 3</th>\n",
       "      <td>1</td>\n",
       "      <td>0</td>\n",
       "      <td>0</td>\n",
       "      <td>0</td>\n",
       "      <td>0</td>\n",
       "      <td>0</td>\n",
       "      <td>0</td>\n",
       "      <td>0</td>\n",
       "      <td>1</td>\n",
       "      <td>0</td>\n",
       "      <td>...</td>\n",
       "      <td>0</td>\n",
       "      <td>0</td>\n",
       "      <td>0</td>\n",
       "      <td>1</td>\n",
       "      <td>1</td>\n",
       "      <td>1</td>\n",
       "      <td>0</td>\n",
       "      <td>1</td>\n",
       "      <td>1</td>\n",
       "      <td>0</td>\n",
       "    </tr>\n",
       "    <tr>\n",
       "      <th>Cluster 4</th>\n",
       "      <td>0</td>\n",
       "      <td>0</td>\n",
       "      <td>0</td>\n",
       "      <td>0</td>\n",
       "      <td>0</td>\n",
       "      <td>0</td>\n",
       "      <td>0</td>\n",
       "      <td>0</td>\n",
       "      <td>0</td>\n",
       "      <td>0</td>\n",
       "      <td>...</td>\n",
       "      <td>0</td>\n",
       "      <td>0</td>\n",
       "      <td>0</td>\n",
       "      <td>0</td>\n",
       "      <td>0</td>\n",
       "      <td>0</td>\n",
       "      <td>0</td>\n",
       "      <td>0</td>\n",
       "      <td>0</td>\n",
       "      <td>0</td>\n",
       "    </tr>\n",
       "  </tbody>\n",
       "</table>\n",
       "<p>5 rows × 2289 columns</p>\n",
       "</div>"
      ],
      "text/plain": [
       "Label      A04.7  A04.72  A04.8  A08.4  A08.8  A09  A15.0  A15.9  A41.50  \\\n",
       "Cluster 0      0       0      0      0      0    0      0      0       0   \n",
       "Cluster 1      0       0      1      1      1    1      0      1       1   \n",
       "Cluster 2      0       1      1      0      1    0      1      0       0   \n",
       "Cluster 3      1       0      0      0      0    0      0      0       1   \n",
       "Cluster 4      0       0      0      0      0    0      0      0       0   \n",
       "\n",
       "Label      A41.51  ...  Z98.42  Z98.49  Z98.61  Z98.89  Z98.890  Z99.11  \\\n",
       "Cluster 0       0  ...       0       0       0       0        0       0   \n",
       "Cluster 1       1  ...       1       1       1       1        1       1   \n",
       "Cluster 2       0  ...       0       1       1       0        0       0   \n",
       "Cluster 3       0  ...       0       0       0       1        1       1   \n",
       "Cluster 4       0  ...       0       0       0       0        0       0   \n",
       "\n",
       "Label      Z99.2  Z99.3  Z99.81  Z99.89  \n",
       "Cluster 0      0      0       0       0  \n",
       "Cluster 1      1      1       1       1  \n",
       "Cluster 2      0      0       1       0  \n",
       "Cluster 3      0      1       1       0  \n",
       "Cluster 4      0      0       0       0  \n",
       "\n",
       "[5 rows x 2289 columns]"
      ]
     },
     "execution_count": 9,
     "metadata": {},
     "output_type": "execute_result"
    }
   ],
   "source": [
    "pivot_df"
   ]
  },
  {
   "cell_type": "markdown",
   "metadata": {},
   "source": [
    "# UpSet Plot"
   ]
  },
  {
   "cell_type": "code",
   "execution_count": 10,
   "metadata": {},
   "outputs": [],
   "source": [
    "from upsetplot import UpSet, from_contents"
   ]
  },
  {
   "cell_type": "code",
   "execution_count": 11,
   "metadata": {},
   "outputs": [
    {
     "data": {
      "text/plain": [
       "<Figure size 1000x600 with 0 Axes>"
      ]
     },
     "metadata": {},
     "output_type": "display_data"
    },
    {
     "data": {
      "image/png": "[encoded data removed]",
      "text/plain": [
       "<Figure size 844.444x488.889 with 4 Axes>"
      ]
     },
     "metadata": {},
     "output_type": "display_data"
    }
   ],
   "source": [
    "# Generate a True/False mapping for each cluster\n",
    "contents = {}\n",
    "for label, row in pivot_df.iterrows():\n",
    "    clusters = row[row == 1].index.tolist()  # Get a list of cluster numbers\n",
    "    contents[label] = clusters  # Store the cluster mapping for each label\n",
    "\n",
    "# Generate data for the UpSet plot\n",
    "upset_data = from_contents(contents)\n",
    "\n",
    "plt.figure(figsize=(10, 6))  # Set a smaller figure size\n",
    "\n",
    "# Draw the UpSet plot\n",
    "upset = UpSet(upset_data, subset_size='count', show_counts=True)\n",
    "upset.plot()\n",
    "plt.title('UpSet Plot: Positively Associated Comorbidities by Cluster - ICD10')\n",
    "plt.show()\n"
   ]
  },
  {
   "cell_type": "code",
   "execution_count": 12,
   "metadata": {},
   "outputs": [],
   "source": [
    "# Convert upset_data to a Pandas DataFrame\n",
    "upset_df = upset_data.reset_index()\n",
    "\n",
    "# Rename columns\n",
    "upset_df.columns = ['c0', 'c1', 'c2', 'c3', 'c4', 'ICD']"
   ]
  },
  {
   "cell_type": "code",
   "execution_count": 13,
   "metadata": {},
   "outputs": [],
   "source": [
    "upset_df.to_csv('Data/upset_AD_positive_ICD10.csv')"
   ]
  },
  {
   "cell_type": "code",
   "execution_count": null,
   "metadata": {},
   "outputs": [],
   "source": []
  }
 ],
 "metadata": {
  "kernelspec": {
   "display_name": "Python 3",
   "language": "python",
   "name": "python3"
  },
  "language_info": {
   "codemirror_mode": {
    "name": "ipython",
    "version": 3
   },
   "file_extension": ".py",
   "mimetype": "text/x-python",
   "name": "python",
   "nbconvert_exporter": "python",
   "pygments_lexer": "ipython3",
   "version": "3.7.9"
  }
 },
 "nbformat": 4,
 "nbformat_minor": 4
}
