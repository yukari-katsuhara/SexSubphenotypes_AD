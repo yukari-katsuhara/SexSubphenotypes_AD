{
 "cells": [
  {
   "cell_type": "markdown",
   "metadata": {},
   "source": [
    "This script performs dimensionality reduction using PCA to analyze comorbidity patterns.\n",
    "\n",
    "Key steps:\n",
    "1. **Create a pivot table**:\n",
    "   - Transform diagnosis data into a structured format where rows represent patients and columns represent diagnoses.\n",
    "   - Convert categorical data into a binary presence/absence matrix.\n",
    "   - **Input:** `'Data/ad_demographics.csv'`, `'Data/ad_diagnosis.csv'`\n",
    "\n",
    "2. **Perform PCA (Principal Component Analysis)**:\n",
    "   - Compute the cumulative explained variance ratio to determine the number of principal components.\n",
    "   - Select 1000 principal components for dimensionality reduction.\n",
    "   - Transform the dataset using PCA.\n",
    "\n",
    "3. **Save results for further analysis**:\n",
    "   - Store the trained PCA model as a `.joblib` file.\n",
    "   - Save the transformed data as a `.npy` file.\n",
    "   - Save the pivoted diagnosis data as a `.pkl` file.\n",
    "   - **Output:** `'Data/pca_model_n1000_rdm42.joblib'`, `'Data/pca_transformed_n1000_rdm42.npy'`, `'Data/alzdiag_pivot_rdm42.pkl'`\n"
   ]
  },
  {
   "cell_type": "code",
   "execution_count": 1,
   "metadata": {},
   "outputs": [],
   "source": [
    "import pandas as pd\n",
    "import seaborn as sns\n",
    "%matplotlib inline\n",
    "import matplotlib.pyplot as plt\n",
    "import numpy as np\n",
    "import os\n",
    "import re\n",
    "import umap\n",
    "from sklearn.decomposition import PCA\n",
    "import joblib"
   ]
  },
  {
   "cell_type": "markdown",
   "metadata": {},
   "source": [
    "# 1. Making analysis datasets"
   ]
  },
  {
   "cell_type": "markdown",
   "metadata": {},
   "source": [
    "## Load Datasets"
   ]
  },
  {
   "cell_type": "code",
   "execution_count": 2,
   "metadata": {},
   "outputs": [],
   "source": [
    "alzcohort = pd.read_csv('Data/ad_demographics.csv')\n",
    "alzdiag = pd.read_csv('Data/ad_diagnosis.csv')"
   ]
  },
  {
   "cell_type": "markdown",
   "metadata": {},
   "source": [
    "## Change clounmns'name"
   ]
  },
  {
   "cell_type": "code",
   "execution_count": 3,
   "metadata": {},
   "outputs": [],
   "source": [
    "alzcohort = alzcohort.rename(columns={'PatientDurableKey':'PatientID','estimated_age':'Age', 'FirstRace':'Race','Status':'Death_Status','Value':'ICD10'})\n",
    "alzdiag = alzdiag.rename(columns={'PatientDurableKey':'PatientID','estimated_age':'Age', 'FirstRace':'Race','Status':'Death_Status','Value':'ICD10'})"
   ]
  },
  {
   "cell_type": "code",
   "execution_count": 4,
   "metadata": {},
   "outputs": [
    {
     "data": {
      "text/plain": [
       "8804"
      ]
     },
     "execution_count": 4,
     "metadata": {},
     "output_type": "execute_result"
    }
   ],
   "source": [
    "alzdiag['PatientID'].nunique()"
   ]
  },
  {
   "cell_type": "markdown",
   "metadata": {},
   "source": [
    "## Exclude the record with NaN for ICD10"
   ]
  },
  {
   "cell_type": "code",
   "execution_count": 5,
   "metadata": {},
   "outputs": [],
   "source": [
    "alzdiag = alzdiag[alzdiag['ICD10'].notna()]\n"
   ]
  },
  {
   "cell_type": "code",
   "execution_count": 6,
   "metadata": {},
   "outputs": [
    {
     "data": {
      "text/plain": [
       "8804"
      ]
     },
     "execution_count": 6,
     "metadata": {},
     "output_type": "execute_result"
    }
   ],
   "source": [
    "alzdiag['PatientID'].nunique()"
   ]
  },
  {
   "cell_type": "markdown",
   "metadata": {},
   "source": [
    "## Make a pivot table"
   ]
  },
  {
   "cell_type": "code",
   "execution_count": 7,
   "metadata": {},
   "outputs": [],
   "source": [
    "n = 'DiagnosisName'\n",
    "alzdiag_pivot = pd.pivot_table(alzdiag[[n, 'PatientID']].drop_duplicates(), \n",
    "         values = [n], index = 'PatientID', columns = [n],\n",
    "         aggfunc = lambda x: 1 if len(x)>0 else 0, fill_value = 0)\n",
    "alzdiag_pivot['isAD'] = 1"
   ]
  },
  {
   "cell_type": "markdown",
   "metadata": {},
   "source": [
    "## Delete columns containing \"Alzheimer\" in the disease name"
   ]
  },
  {
   "cell_type": "code",
   "execution_count": 8,
   "metadata": {},
   "outputs": [],
   "source": [
    "colstodrop = alzdiag_pivot.columns[alzdiag_pivot.columns.str.contains('alzheimer', flags=re.IGNORECASE)]"
   ]
  },
  {
   "cell_type": "code",
   "execution_count": 9,
   "metadata": {},
   "outputs": [],
   "source": [
    "alzdiag_pivot = alzdiag_pivot.drop(colstodrop , axis=1)"
   ]
  },
  {
   "cell_type": "markdown",
   "metadata": {},
   "source": [
    "## Calculate total number of non-AD complications"
   ]
  },
  {
   "cell_type": "code",
   "execution_count": 10,
   "metadata": {},
   "outputs": [],
   "source": [
    "alzdiag_pivot['#diagnosis'] = alzdiag_pivot.loc[:, ~alzdiag_pivot.columns.isin(['isAD'])].sum(axis=1)"
   ]
  },
  {
   "cell_type": "code",
   "execution_count": 11,
   "metadata": {},
   "outputs": [
    {
     "data": {
      "text/plain": [
       "<AxesSubplot:xlabel='#diagnosis', ylabel='Count'>"
      ]
     },
     "execution_count": 11,
     "metadata": {},
     "output_type": "execute_result"
    },
    {
     "data": {
      "image/png": "[encoded data removed]",
      "text/plain": [
       "<Figure size 432x288 with 1 Axes>"
      ]
     },
     "metadata": {
      "needs_background": "light"
     },
     "output_type": "display_data"
    }
   ],
   "source": [
    "sns.histplot(alzdiag_pivot, x= alzdiag_pivot['#diagnosis'])"
   ]
  },
  {
   "cell_type": "code",
   "execution_count": 12,
   "metadata": {},
   "outputs": [
    {
     "data": {
      "text/plain": [
       "count    8804.000000\n",
       "mean       50.902204\n",
       "std        77.387373\n",
       "min         0.000000\n",
       "25%         7.000000\n",
       "50%        21.000000\n",
       "75%        60.000000\n",
       "max       978.000000\n",
       "Name: #diagnosis, dtype: float64"
      ]
     },
     "execution_count": 12,
     "metadata": {},
     "output_type": "execute_result"
    }
   ],
   "source": [
    "alzdiag_pivot['#diagnosis'].describe()"
   ]
  },
  {
   "cell_type": "markdown",
   "metadata": {},
   "source": [
    "## Filter case who have at least one diagnosis name in addition to AD"
   ]
  },
  {
   "cell_type": "code",
   "execution_count": 13,
   "metadata": {},
   "outputs": [],
   "source": [
    "alzdiag_pivot = alzdiag_pivot[alzdiag_pivot['#diagnosis'] >= 1]"
   ]
  },
  {
   "cell_type": "markdown",
   "metadata": {},
   "source": [
    "## Join background table to alzdiag_pivot"
   ]
  },
  {
   "cell_type": "code",
   "execution_count": 14,
   "metadata": {},
   "outputs": [],
   "source": [
    "demographic_cols = ['PatientID', 'Age', 'Sex', 'Race', 'Death_Status']"
   ]
  },
  {
   "cell_type": "code",
   "execution_count": 15,
   "metadata": {},
   "outputs": [],
   "source": [
    "alzdiag_pivot = alzdiag_pivot.merge((alzcohort[demographic_cols]).set_index('PatientID'),\n",
    "                how = 'left', left_index = True, right_index = True)\n",
    "alzdiag_pivot = alzdiag_pivot.fillna(0)"
   ]
  },
  {
   "cell_type": "markdown",
   "metadata": {},
   "source": [
    "# 2. Dimentional Reduction"
   ]
  },
  {
   "cell_type": "code",
   "execution_count": 16,
   "metadata": {},
   "outputs": [],
   "source": [
    "demographic_cols = ['Age', 'Sex', 'Race', 'Death_Status','#diagnosis']"
   ]
  },
  {
   "cell_type": "code",
   "execution_count": 17,
   "metadata": {},
   "outputs": [],
   "source": [
    "z = alzdiag_pivot[demographic_cols]\n",
    "X = alzdiag_pivot.drop('isAD', axis=1).drop(demographic_cols, axis=1).astype('int32')"
   ]
  },
  {
   "cell_type": "markdown",
   "metadata": {},
   "source": [
    "## PCA"
   ]
  },
  {
   "cell_type": "code",
   "execution_count": 18,
   "metadata": {},
   "outputs": [],
   "source": [
    "pca = PCA(n_components= 2000, random_state=42)"
   ]
  },
  {
   "cell_type": "code",
   "execution_count": 19,
   "metadata": {},
   "outputs": [],
   "source": [
    "mapper = pca.fit(X)"
   ]
  },
  {
   "cell_type": "code",
   "execution_count": 20,
   "metadata": {},
   "outputs": [
    {
     "data": {
      "image/png": "[encoded data removed]",
      "text/plain": [
       "<Figure size 720x576 with 1 Axes>"
      ]
     },
     "metadata": {},
     "output_type": "display_data"
    }
   ],
   "source": [
    "X_embedded = mapper.transform(X)\n",
    "\n",
    "with sns.color_palette(\"Set1\"):\n",
    "    fig = plt.figure(figsize=(10,8))\n",
    "    reordered_indices = np.arange(X_embedded.shape[0])\n",
    "    np.random.shuffle(reordered_indices)\n",
    "    sns.scatterplot(x= X_embedded[reordered_indices,0], y= X_embedded[reordered_indices,1],\n",
    "    s= 5, linewidth= .0, alpha= .6)\n",
    "    ax= plt.gca()\n",
    "    ax.set(xticks=[], yticks=[], facecolor='white');\n",
    "    plt.title('Diagnosis as Features - PCA')"
   ]
  },
  {
   "cell_type": "code",
   "execution_count": 21,
   "metadata": {},
   "outputs": [
    {
     "data": {
      "image/png": "[encoded data removed]",
      "text/plain": [
       "<Figure size 432x288 with 1 Axes>"
      ]
     },
     "metadata": {
      "needs_background": "light"
     },
     "output_type": "display_data"
    }
   ],
   "source": [
    "cumulative_variance_ratio = np.cumsum(pca.explained_variance_ratio_)\n",
    "\n",
    "plt.plot(cumulative_variance_ratio, marker='o')\n",
    "plt.xlabel('Number of Principal Components')\n",
    "plt.ylabel('Cumulative Explained Variance Ratio')\n",
    "plt.title('Cumulative Explained Variance Ratio for PCA')\n",
    "plt.grid(True)\n",
    "plt.show()"
   ]
  },
  {
   "cell_type": "markdown",
   "metadata": {},
   "source": [
    "## 1000 PCA components are included in the analysis dataset"
   ]
  },
  {
   "cell_type": "markdown",
   "metadata": {},
   "source": [
    "## PCA(n=1000)"
   ]
  },
  {
   "cell_type": "code",
   "execution_count": 22,
   "metadata": {},
   "outputs": [],
   "source": [
    "pca = PCA(n_components=1000, random_state=42)\n",
    "data_pca = pca.fit_transform(X)"
   ]
  },
  {
   "cell_type": "code",
   "execution_count": 23,
   "metadata": {},
   "outputs": [],
   "source": [
    "# Save the model\n",
    "joblib.dump(pca, 'Data/pca_model_n1000_rdm42.joblib')\n",
    "\n",
    "# Save the transformed data\n",
    "np.save('Data/pca_transformed_n1000_rdm42.npy', data_pca)\n"
   ]
  },
  {
   "cell_type": "code",
   "execution_count": 24,
   "metadata": {},
   "outputs": [],
   "source": [
    "# Save as Pickle file\n",
    "alzdiag_pivot.to_pickle('Data/alzdiag_pivot_rdm42.pkl')"
   ]
  },
  {
   "cell_type": "code",
   "execution_count": null,
   "metadata": {},
   "outputs": [],
   "source": []
  },
  {
   "cell_type": "code",
   "execution_count": null,
   "metadata": {},
   "outputs": [],
   "source": []
  }
 ],
 "metadata": {
  "kernelspec": {
   "display_name": "Python 3",
   "language": "python",
   "name": "python3"
  },
  "language_info": {
   "codemirror_mode": {
    "name": "ipython",
    "version": 3
   },
   "file_extension": ".py",
   "mimetype": "text/x-python",
   "name": "python",
   "nbconvert_exporter": "python",
   "pygments_lexer": "ipython3",
   "version": "3.7.9"
  }
 },
 "nbformat": 4,
 "nbformat_minor": 4
}
