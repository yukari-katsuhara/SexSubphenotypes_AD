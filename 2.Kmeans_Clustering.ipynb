{
 "cells": [
  {
   "cell_type": "markdown",
   "metadata": {},
   "source": [
    "This script applies K-means clustering (n=5) and visualizes the results using UMAP.\n",
    "\n",
    "Key steps:\n",
    "1. **Perform K-means clustering (n=5)**:\n",
    "   - Fit a K-means model to the PCA-transformed data.\n",
    "   - **Input:** `'Data/pca_model_n1000_rdm42.joblib'`, `'Data/pca_transformed_n1000_rdm42.npy'`.\n",
    "\n",
    "2. **Visualize clusters using UMAP**:\n",
    "   - Scatter plot of UMAP embeddings colored by K-means cluster labels.\n",
    "   - Save UMAP embeddings and model for future analysis.\n",
    "   - **Output:** `'Data/umap_embedding_diagnosis.pkl'`, `'Data/umap_model_diagnosis.joblib'`.\n",
    "\n",
    "3. **Merge cluster labels with patient data**:\n",
    "   - Merge encoded cluster labels with the diagnosis dataset.\n",
    "   - Store the updated dataset with cluster information for further analysis.\n",
    "   - **Input:** `'Data/alzdiag_pivot_rdm42.pkl'`.\n",
    "   - **Output:** `'Data/kmeans_clusters_n5_rdm42_diagnosis.pkl'`.\n"
   ]
  },
  {
   "cell_type": "code",
   "execution_count": 1,
   "metadata": {},
   "outputs": [],
   "source": [
    "import pandas as pd\n",
    "import seaborn as sns\n",
    "%matplotlib inline\n",
    "import matplotlib.pyplot as plt\n",
    "import numpy as np\n",
    "import umap\n",
    "pd.set_option('display.max_rows', 50)\n",
    "np.set_printoptions(threshold=50)\n",
    "import joblib\n",
    "from sklearn.cluster import KMeans\n",
    "from sklearn.preprocessing import OneHotEncoder\n",
    "import pickle\n",
    "from joblib import load"
   ]
  },
  {
   "cell_type": "markdown",
   "metadata": {},
   "source": [
    "# 1. Create five clusters by K-means Clustering"
   ]
  },
  {
   "cell_type": "markdown",
   "metadata": {},
   "source": [
    "## Load analysis datasets"
   ]
  },
  {
   "cell_type": "code",
   "execution_count": 2,
   "metadata": {},
   "outputs": [],
   "source": [
    "pca = joblib.load('Data/pca_model_n1000_rdm42.joblib')\n",
    "data_pca = np.load('Data/pca_transformed_n1000_rdm42.npy')"
   ]
  },
  {
   "cell_type": "markdown",
   "metadata": {},
   "source": [
    "## Kmeans Clustering (n=5) & UMAP visualization"
   ]
  },
  {
   "cell_type": "code",
   "execution_count": 3,
   "metadata": {},
   "outputs": [],
   "source": [
    "# K-means Clustering(n =5)\n",
    "kmeans5 = KMeans(n_clusters=5, random_state=42) \n",
    "kmeans5.fit(data_pca)\n",
    "data_pca_kmeans5 = kmeans5.fit_transform(data_pca)"
   ]
  },
  {
   "cell_type": "code",
   "execution_count": 4,
   "metadata": {},
   "outputs": [],
   "source": [
    "kmeans5_labels = kmeans5.labels_"
   ]
  },
  {
   "cell_type": "code",
   "execution_count": 5,
   "metadata": {},
   "outputs": [
    {
     "name": "stderr",
     "output_type": "stream",
     "text": [
      "/wynton/protected/home/sirota/ykatsuhara/.local/lib/python3.7/site-packages/umap/umap_.py:1943: UserWarning: n_jobs value -1 overridden to 1 by setting random_state. Use no seed for parallelism.\n",
      "  warn(f\"n_jobs value {self.n_jobs} overridden to 1 by setting random_state. Use no seed for parallelism.\")\n"
     ]
    },
    {
     "name": "stdout",
     "output_type": "stream",
     "text": [
      "UMAP(angular_rp_forest=True, metric='cosine', random_state=42, verbose=1)\n",
      "Thu Feb 27 16:56:13 2025 Construct fuzzy simplicial set\n",
      "Thu Feb 27 16:56:13 2025 Finding Nearest Neighbors\n",
      "Thu Feb 27 16:56:13 2025 Building RP forest with 10 trees\n",
      "Thu Feb 27 16:56:14 2025 NN descent for 13 iterations\n",
      "\t 1  /  13\n",
      "\t 2  /  13\n",
      "\t 3  /  13\n",
      "\t 4  /  13\n",
      "\t 5  /  13\n",
      "\t 6  /  13\n",
      "\tStopping threshold met -- exiting after 6 iterations\n",
      "Thu Feb 27 16:56:29 2025 Finished Nearest Neighbor Search\n",
      "Thu Feb 27 16:56:32 2025 Construct embedding\n"
     ]
    },
    {
     "data": {
      "application/vnd.jupyter.widget-view+json": {
       "model_id": "0105d9d94dbf47509b2b1e4d18d560f6",
       "version_major": 2,
       "version_minor": 0
      },
      "text/plain": [
       "Epochs completed:   0%|            0/500 [00:00]"
      ]
     },
     "metadata": {},
     "output_type": "display_data"
    },
    {
     "name": "stdout",
     "output_type": "stream",
     "text": [
      "\tcompleted  0  /  500 epochs\n",
      "\tcompleted  50  /  500 epochs\n",
      "\tcompleted  100  /  500 epochs\n",
      "\tcompleted  150  /  500 epochs\n",
      "\tcompleted  200  /  500 epochs\n",
      "\tcompleted  250  /  500 epochs\n",
      "\tcompleted  300  /  500 epochs\n",
      "\tcompleted  350  /  500 epochs\n",
      "\tcompleted  400  /  500 epochs\n",
      "\tcompleted  450  /  500 epochs\n",
      "Thu Feb 27 16:56:59 2025 Finished embedding\n",
      "CPU times: user 1min 11s, sys: 11.9 s, total: 1min 23s\n",
      "Wall time: 46.3 s\n"
     ]
    }
   ],
   "source": [
    "%%time\n",
    "mapper = umap.UMAP(metric='cosine', random_state=42, low_memory=True, verbose = 1)\n",
    "X_embedded = mapper.fit_transform(data_pca)"
   ]
  },
  {
   "cell_type": "code",
   "execution_count": 6,
   "metadata": {},
   "outputs": [],
   "source": [
    "# Save UMAP transformed data\n",
    "with open('Data/umap_embedding_diagnosis.pkl', 'wb') as f:\n",
    "    pickle.dump(X_embedded, f)"
   ]
  },
  {
   "cell_type": "code",
   "execution_count": 7,
   "metadata": {},
   "outputs": [
    {
     "name": "stdout",
     "output_type": "stream",
     "text": [
      "Thu Feb 27 16:57:02 2025 Worst tree score: 0.41958627\n",
      "Thu Feb 27 16:57:02 2025 Mean tree score: 0.43603970\n",
      "Thu Feb 27 16:57:02 2025 Best tree score: 0.45258878\n",
      "Thu Feb 27 16:57:05 2025 Forward diversification reduced edges from 125445 to 50204\n",
      "Thu Feb 27 16:57:08 2025 Reverse diversification reduced edges from 50204 to 50204\n"
     ]
    },
    {
     "name": "stderr",
     "output_type": "stream",
     "text": [
      "/wynton/protected/home/sirota/ykatsuhara/.local/lib/python3.7/site-packages/scipy/sparse/_index.py:125: SparseEfficiencyWarning: Changing the sparsity structure of a csr_matrix is expensive. lil_matrix is more efficient.\n",
      "  self._set_arrayXarray(i, j, x)\n"
     ]
    },
    {
     "name": "stdout",
     "output_type": "stream",
     "text": [
      "Thu Feb 27 16:57:11 2025 Degree pruning reduced edges from 61722 to 61491\n",
      "Thu Feb 27 16:57:11 2025 Resorting data and graph based on tree order\n",
      "Thu Feb 27 16:57:11 2025 Building and compiling search function\n"
     ]
    },
    {
     "data": {
      "text/plain": [
       "['Data/umap_model_diagnosis.joblib']"
      ]
     },
     "execution_count": 7,
     "metadata": {},
     "output_type": "execute_result"
    }
   ],
   "source": [
    "# Save the UMAP Model\n",
    "joblib.dump(mapper, 'Data/umap_model_diagnosis.joblib')"
   ]
  },
  {
   "cell_type": "code",
   "execution_count": 8,
   "metadata": {},
   "outputs": [
    {
     "data": {
      "image/png": "[encoded data removed]",
      "text/plain": [
       "<Figure size 252x230.4 with 1 Axes>"
      ]
     },
     "metadata": {},
     "output_type": "display_data"
    }
   ],
   "source": [
    "with sns.color_palette(\"Set2\"):\n",
    "    fig = plt.figure(figsize=(3.5, 3.2))  # Set figure size\n",
    "    \n",
    "    np.random.seed(1)  # Set random seed for reproducibility\n",
    "    reordered_indices = np.arange(X_embedded.shape[0])  # Generate index array\n",
    "    np.random.shuffle(reordered_indices)  # Shuffle indices to randomize plotting order\n",
    "    \n",
    "    # Create scatter plot with UMAP components colored by K-means clusters\n",
    "    sns.scatterplot(x=X_embedded[reordered_indices, 0], \n",
    "                    y=X_embedded[reordered_indices, 1], \n",
    "                    hue=kmeans5.labels_[reordered_indices],\n",
    "                    s=5, linewidth=0, alpha=0.6, \n",
    "                    palette=\"Set2\")\n",
    "\n",
    "    ax = plt.gca()  # Get current axis\n",
    "    ax.set(xticks=[], yticks=[], facecolor='white')  # Remove axis ticks and set background color\n",
    "    plt.title(\"UMAP Visualization using 1000 PCA Components as features colored by K-means clusters\", fontsize=16)\n",
    "    \n",
    "    # Customize legend labels\n",
    "    handles, labels = ax.get_legend_handles_labels()  # Retrieve legend handles and labels\n",
    "    labels = [f\"Cluster {label}\" for label in labels]  # Prefix cluster numbers with 'Cluster'\n",
    "    ax.legend(handles=handles, labels=labels, title='', loc='lower left', fontsize=8)  # Update legend\n"
   ]
  },
  {
   "cell_type": "markdown",
   "metadata": {},
   "source": [
    "# 2. Merge the cluster information to alzdiag_pivot"
   ]
  },
  {
   "cell_type": "code",
   "execution_count": 9,
   "metadata": {},
   "outputs": [],
   "source": [
    "alzdiag_pivot = pd.read_pickle('Data/alzdiag_pivot_rdm42.pkl')"
   ]
  },
  {
   "cell_type": "code",
   "execution_count": 10,
   "metadata": {},
   "outputs": [],
   "source": [
    "demographic_cols = ['Age', 'Sex', 'Race', 'Death_Status','#diagnosis']"
   ]
  },
  {
   "cell_type": "code",
   "execution_count": 11,
   "metadata": {},
   "outputs": [],
   "source": [
    "z = alzdiag_pivot[demographic_cols]\n",
    "X = alzdiag_pivot.drop('isAD', axis=1).drop(demographic_cols, axis=1).astype('int32')"
   ]
  },
  {
   "cell_type": "code",
   "execution_count": 12,
   "metadata": {},
   "outputs": [],
   "source": [
    "X['ClusterLabel'] = kmeans5_labels"
   ]
  },
  {
   "cell_type": "code",
   "execution_count": 13,
   "metadata": {},
   "outputs": [],
   "source": [
    "# OneHotEncoder\n",
    "encoder = OneHotEncoder(sparse=False)\n",
    "\n",
    "# Encoding the Cluster Label\n",
    "X_encoded = encoder.fit_transform(X[['ClusterLabel']])"
   ]
  },
  {
   "cell_type": "code",
   "execution_count": 14,
   "metadata": {},
   "outputs": [],
   "source": [
    "# Data Frame of the encoded clusters\n",
    "X_encoded_df = pd.DataFrame(X_encoded, columns=[f'Cluster_{i}' for i in range(X_encoded.shape[1])])"
   ]
  },
  {
   "cell_type": "code",
   "execution_count": 15,
   "metadata": {},
   "outputs": [
    {
     "data": {
      "text/html": [
       "<div>\n",
       "<style scoped>\n",
       "    .dataframe tbody tr th:only-of-type {\n",
       "        vertical-align: middle;\n",
       "    }\n",
       "\n",
       "    .dataframe tbody tr th {\n",
       "        vertical-align: top;\n",
       "    }\n",
       "\n",
       "    .dataframe thead th {\n",
       "        text-align: right;\n",
       "    }\n",
       "</style>\n",
       "<table border=\"1\" class=\"dataframe\">\n",
       "  <thead>\n",
       "    <tr style=\"text-align: right;\">\n",
       "      <th></th>\n",
       "      <th>Cluster_0</th>\n",
       "      <th>Cluster_1</th>\n",
       "      <th>Cluster_2</th>\n",
       "      <th>Cluster_3</th>\n",
       "      <th>Cluster_4</th>\n",
       "    </tr>\n",
       "  </thead>\n",
       "  <tbody>\n",
       "    <tr>\n",
       "      <th>0</th>\n",
       "      <td>1.0</td>\n",
       "      <td>0.0</td>\n",
       "      <td>0.0</td>\n",
       "      <td>0.0</td>\n",
       "      <td>0.0</td>\n",
       "    </tr>\n",
       "    <tr>\n",
       "      <th>1</th>\n",
       "      <td>1.0</td>\n",
       "      <td>0.0</td>\n",
       "      <td>0.0</td>\n",
       "      <td>0.0</td>\n",
       "      <td>0.0</td>\n",
       "    </tr>\n",
       "    <tr>\n",
       "      <th>2</th>\n",
       "      <td>1.0</td>\n",
       "      <td>0.0</td>\n",
       "      <td>0.0</td>\n",
       "      <td>0.0</td>\n",
       "      <td>0.0</td>\n",
       "    </tr>\n",
       "  </tbody>\n",
       "</table>\n",
       "</div>"
      ],
      "text/plain": [
       "   Cluster_0  Cluster_1  Cluster_2  Cluster_3  Cluster_4\n",
       "0        1.0        0.0        0.0        0.0        0.0\n",
       "1        1.0        0.0        0.0        0.0        0.0\n",
       "2        1.0        0.0        0.0        0.0        0.0"
      ]
     },
     "execution_count": 15,
     "metadata": {},
     "output_type": "execute_result"
    }
   ],
   "source": [
    "X_encoded_df.head(3)"
   ]
  },
  {
   "cell_type": "code",
   "execution_count": 16,
   "metadata": {},
   "outputs": [],
   "source": [
    "# Change the index to Patient ID\n",
    "X_encoded_df.index = z.index"
   ]
  },
  {
   "cell_type": "code",
   "execution_count": 17,
   "metadata": {},
   "outputs": [],
   "source": [
    "# Merge the OneHot Encoded cluster info to alzdiag_pivot\n",
    "alzdiag_pivot_cluster = alzdiag_pivot.join(X_encoded_df)"
   ]
  },
  {
   "cell_type": "code",
   "execution_count": 18,
   "metadata": {},
   "outputs": [],
   "source": [
    "# Create the dataframe of Cluster Label\n",
    "labels = pd.DataFrame(kmeans5_labels, columns=['Cluster'])"
   ]
  },
  {
   "cell_type": "code",
   "execution_count": 19,
   "metadata": {},
   "outputs": [],
   "source": [
    "# Change the index to Patient ID\n",
    "labels.index = z.index"
   ]
  },
  {
   "cell_type": "code",
   "execution_count": 20,
   "metadata": {},
   "outputs": [],
   "source": [
    "# Merge the cluster label to alzdiag_pivot\n",
    "alzdiag_pivot_cluster = alzdiag_pivot_cluster.join(labels)"
   ]
  },
  {
   "cell_type": "code",
   "execution_count": 21,
   "metadata": {},
   "outputs": [],
   "source": [
    "# Save as Pickle file\n",
    "with open('Data/kmeans_clusters_n5_rdm42_diagnosis.pkl', 'wb') as f:\n",
    "    pickle.dump(alzdiag_pivot_cluster, f)"
   ]
  },
  {
   "cell_type": "code",
   "execution_count": null,
   "metadata": {},
   "outputs": [],
   "source": []
  }
 ],
 "metadata": {
  "kernelspec": {
   "display_name": "Python 3",
   "language": "python",
   "name": "python3"
  },
  "language_info": {
   "codemirror_mode": {
    "name": "ipython",
    "version": 3
   },
   "file_extension": ".py",
   "mimetype": "text/x-python",
   "name": "python",
   "nbconvert_exporter": "python",
   "pygments_lexer": "ipython3",
   "version": "3.7.9"
  }
 },
 "nbformat": 4,
 "nbformat_minor": 4
}
